{
 "cells": [
  {
   "cell_type": "markdown",
   "id": "83e88fe9-6675-4ba1-8c60-ecf83ab07821",
   "metadata": {
    "tags": []
   },
   "source": [
    "# Ранижрование комментариев"
   ]
  },
  {
   "cell_type": "markdown",
   "id": "7c986b5d-26f3-4541-9374-028ce0af5e81",
   "metadata": {},
   "source": [
    "## Задача: предсказать скор комментария."
   ]
  },
  {
   "cell_type": "code",
   "execution_count": 12,
   "id": "8c213f66-671a-4dd4-ab37-f0010011d3f4",
   "metadata": {
    "tags": []
   },
   "outputs": [],
   "source": [
    "import re\n",
    "import pandas as pd\n",
    "import numpy as np\n",
    "import scipy\n",
    "import time\n",
    "from tqdm import tqdm, tqdm_notebook\n",
    "from pathlib import Path\n",
    "import stop_words\n",
    "import string\n",
    "import pymorphy2\n",
    "from sklearn.utils import shuffle\n",
    "from sklearn.model_selection import train_test_split\n",
    "from sklearn.pipeline import Pipeline\n",
    "from sklearn.feature_extraction.text import TfidfTransformer\n",
    "from sklearn.feature_extraction.text import CountVectorizer\n",
    "from sklearn.feature_extraction.text import TfidfVectorizer\n",
    "from sklearn.linear_model import LogisticRegression"
   ]
  },
  {
   "cell_type": "markdown",
   "id": "42b48506-3123-4496-89c6-3433278eac06",
   "metadata": {},
   "source": [
    "# Загрузка исходных данных"
   ]
  },
  {
   "cell_type": "code",
   "execution_count": 2,
   "id": "1389b61b-0ed3-4399-953a-937afdbc525e",
   "metadata": {},
   "outputs": [],
   "source": [
    "train = pd.read_json('ranking_train.jsonl', lines=True)"
   ]
  },
  {
   "cell_type": "code",
   "execution_count": 3,
   "id": "9c3eb6a4-5a77-46bc-8ab0-cbfa5e19c21f",
   "metadata": {
    "tags": []
   },
   "outputs": [],
   "source": [
    "test = pd.read_json('ranking_test.jsonl', lines=True)"
   ]
  },
  {
   "cell_type": "markdown",
   "id": "29f32e3f-34c1-4262-8ca2-d43a1dd88b99",
   "metadata": {},
   "source": [
    "Посмотрим на дынные"
   ]
  },
  {
   "cell_type": "code",
   "execution_count": 4,
   "id": "6987a361-d90e-41b3-9f58-122e827cc565",
   "metadata": {
    "tags": []
   },
   "outputs": [
    {
     "data": {
      "text/html": [
       "<div>\n",
       "<style scoped>\n",
       "    .dataframe tbody tr th:only-of-type {\n",
       "        vertical-align: middle;\n",
       "    }\n",
       "\n",
       "    .dataframe tbody tr th {\n",
       "        vertical-align: top;\n",
       "    }\n",
       "\n",
       "    .dataframe thead th {\n",
       "        text-align: right;\n",
       "    }\n",
       "</style>\n",
       "<table border=\"1\" class=\"dataframe\">\n",
       "  <thead>\n",
       "    <tr style=\"text-align: right;\">\n",
       "      <th></th>\n",
       "      <th>text</th>\n",
       "      <th>comments</th>\n",
       "    </tr>\n",
       "  </thead>\n",
       "  <tbody>\n",
       "    <tr>\n",
       "      <th>0</th>\n",
       "      <td>How many summer Y Combinator fundees decided n...</td>\n",
       "      <td>[{'text': 'Going back to school is not identic...</td>\n",
       "    </tr>\n",
       "    <tr>\n",
       "      <th>1</th>\n",
       "      <td>CBS acquires last.fm for $280m</td>\n",
       "      <td>[{'text': 'It will be curious to see where thi...</td>\n",
       "    </tr>\n",
       "    <tr>\n",
       "      <th>2</th>\n",
       "      <td>How Costco Became the Anti-Wal-Mart</td>\n",
       "      <td>[{'text': 'I really hate it when people falsel...</td>\n",
       "    </tr>\n",
       "    <tr>\n",
       "      <th>3</th>\n",
       "      <td>Fortune Favors Big Turds | Screw The Money, Th...</td>\n",
       "      <td>[{'text': 'His real point is that something ca...</td>\n",
       "    </tr>\n",
       "    <tr>\n",
       "      <th>4</th>\n",
       "      <td>StartupWeekend: 70 Founders Create One Company...</td>\n",
       "      <td>[{'text': 'Looks like someone hasn't read The ...</td>\n",
       "    </tr>\n",
       "    <tr>\n",
       "      <th>...</th>\n",
       "      <td>...</td>\n",
       "      <td>...</td>\n",
       "    </tr>\n",
       "    <tr>\n",
       "      <th>88102</th>\n",
       "      <td>Don't upgrade to iOS 8.0.1 or you may experien...</td>\n",
       "      <td>[{'text': 'I had this issue and was able to fi...</td>\n",
       "    </tr>\n",
       "    <tr>\n",
       "      <th>88103</th>\n",
       "      <td>Ask HN: How do US HNers get their health insur...</td>\n",
       "      <td>[{'text': 'We use a HSA-qualified high-deducti...</td>\n",
       "    </tr>\n",
       "    <tr>\n",
       "      <th>88104</th>\n",
       "      <td>Justin Gordon Using React on Rails</td>\n",
       "      <td>[{'text': 'neat insight! A friend of mine conv...</td>\n",
       "    </tr>\n",
       "    <tr>\n",
       "      <th>88105</th>\n",
       "      <td>iOS 8.0.1 released, broken on iPhone 6 models,...</td>\n",
       "      <td>[{'text': 'Ouch, I feel for whoever let this s...</td>\n",
       "    </tr>\n",
       "    <tr>\n",
       "      <th>88106</th>\n",
       "      <td>Pay your rent with a Credit or Debit card. No ...</td>\n",
       "      <td>[{'text': 'Most major banks offer a service ca...</td>\n",
       "    </tr>\n",
       "  </tbody>\n",
       "</table>\n",
       "<p>88107 rows × 2 columns</p>\n",
       "</div>"
      ],
      "text/plain": [
       "                                                    text  \\\n",
       "0      How many summer Y Combinator fundees decided n...   \n",
       "1                         CBS acquires last.fm for $280m   \n",
       "2                    How Costco Became the Anti-Wal-Mart   \n",
       "3      Fortune Favors Big Turds | Screw The Money, Th...   \n",
       "4      StartupWeekend: 70 Founders Create One Company...   \n",
       "...                                                  ...   \n",
       "88102  Don't upgrade to iOS 8.0.1 or you may experien...   \n",
       "88103  Ask HN: How do US HNers get their health insur...   \n",
       "88104                 Justin Gordon Using React on Rails   \n",
       "88105  iOS 8.0.1 released, broken on iPhone 6 models,...   \n",
       "88106  Pay your rent with a Credit or Debit card. No ...   \n",
       "\n",
       "                                                comments  \n",
       "0      [{'text': 'Going back to school is not identic...  \n",
       "1      [{'text': 'It will be curious to see where thi...  \n",
       "2      [{'text': 'I really hate it when people falsel...  \n",
       "3      [{'text': 'His real point is that something ca...  \n",
       "4      [{'text': 'Looks like someone hasn't read The ...  \n",
       "...                                                  ...  \n",
       "88102  [{'text': 'I had this issue and was able to fi...  \n",
       "88103  [{'text': 'We use a HSA-qualified high-deducti...  \n",
       "88104  [{'text': 'neat insight! A friend of mine conv...  \n",
       "88105  [{'text': 'Ouch, I feel for whoever let this s...  \n",
       "88106  [{'text': 'Most major banks offer a service ca...  \n",
       "\n",
       "[88107 rows x 2 columns]"
      ]
     },
     "execution_count": 4,
     "metadata": {},
     "output_type": "execute_result"
    }
   ],
   "source": [
    "train"
   ]
  },
  {
   "cell_type": "markdown",
   "id": "bf3e3df6-6936-4ae8-90d8-4afa425f2c6c",
   "metadata": {},
   "source": [
    "Выведем один объект признака comments для трейна"
   ]
  },
  {
   "cell_type": "code",
   "execution_count": 5,
   "id": "c25786c4-f399-494e-b322-2725dcae4341",
   "metadata": {
    "tags": []
   },
   "outputs": [
    {
     "data": {
      "text/html": [
       "<div>\n",
       "<style scoped>\n",
       "    .dataframe tbody tr th:only-of-type {\n",
       "        vertical-align: middle;\n",
       "    }\n",
       "\n",
       "    .dataframe tbody tr th {\n",
       "        vertical-align: top;\n",
       "    }\n",
       "\n",
       "    .dataframe thead th {\n",
       "        text-align: right;\n",
       "    }\n",
       "</style>\n",
       "<table border=\"1\" class=\"dataframe\">\n",
       "  <thead>\n",
       "    <tr style=\"text-align: right;\">\n",
       "      <th></th>\n",
       "      <th>text</th>\n",
       "      <th>score</th>\n",
       "    </tr>\n",
       "  </thead>\n",
       "  <tbody>\n",
       "    <tr>\n",
       "      <th>0</th>\n",
       "      <td>Going back to school is not identical with giv...</td>\n",
       "      <td>0</td>\n",
       "    </tr>\n",
       "    <tr>\n",
       "      <th>1</th>\n",
       "      <td>There will invariably be those who don't see t...</td>\n",
       "      <td>1</td>\n",
       "    </tr>\n",
       "    <tr>\n",
       "      <th>2</th>\n",
       "      <td>For me school is a way to be connected to what...</td>\n",
       "      <td>2</td>\n",
       "    </tr>\n",
       "    <tr>\n",
       "      <th>3</th>\n",
       "      <td>I guess it really depends on how hungry you ar...</td>\n",
       "      <td>3</td>\n",
       "    </tr>\n",
       "    <tr>\n",
       "      <th>4</th>\n",
       "      <td>I know pollground decided to go back to school...</td>\n",
       "      <td>4</td>\n",
       "    </tr>\n",
       "  </tbody>\n",
       "</table>\n",
       "</div>"
      ],
      "text/plain": [
       "                                                text  score\n",
       "0  Going back to school is not identical with giv...      0\n",
       "1  There will invariably be those who don't see t...      1\n",
       "2  For me school is a way to be connected to what...      2\n",
       "3  I guess it really depends on how hungry you ar...      3\n",
       "4  I know pollground decided to go back to school...      4"
      ]
     },
     "execution_count": 5,
     "metadata": {},
     "output_type": "execute_result"
    }
   ],
   "source": [
    "pd.DataFrame(train['comments'][0])"
   ]
  },
  {
   "cell_type": "markdown",
   "id": "828653bf-eb73-41fb-b16b-51cb08291eb1",
   "metadata": {},
   "source": [
    "Для тестовой выборки"
   ]
  },
  {
   "cell_type": "code",
   "execution_count": 6,
   "id": "5bc49000-a984-4042-8f2b-f90e7ecfa925",
   "metadata": {
    "tags": []
   },
   "outputs": [
    {
     "data": {
      "text/html": [
       "<div>\n",
       "<style scoped>\n",
       "    .dataframe tbody tr th:only-of-type {\n",
       "        vertical-align: middle;\n",
       "    }\n",
       "\n",
       "    .dataframe tbody tr th {\n",
       "        vertical-align: top;\n",
       "    }\n",
       "\n",
       "    .dataframe thead th {\n",
       "        text-align: right;\n",
       "    }\n",
       "</style>\n",
       "<table border=\"1\" class=\"dataframe\">\n",
       "  <thead>\n",
       "    <tr style=\"text-align: right;\">\n",
       "      <th></th>\n",
       "      <th>text</th>\n",
       "      <th>score</th>\n",
       "    </tr>\n",
       "  </thead>\n",
       "  <tbody>\n",
       "    <tr>\n",
       "      <th>0</th>\n",
       "      <td>I&amp;#x27;m still waiting for them to stabilize w...</td>\n",
       "      <td>None</td>\n",
       "    </tr>\n",
       "    <tr>\n",
       "      <th>1</th>\n",
       "      <td>For those who upgraded, no need to do a restor...</td>\n",
       "      <td>None</td>\n",
       "    </tr>\n",
       "    <tr>\n",
       "      <th>2</th>\n",
       "      <td>Upgraded shortly after it was released and suf...</td>\n",
       "      <td>None</td>\n",
       "    </tr>\n",
       "    <tr>\n",
       "      <th>3</th>\n",
       "      <td>I think they were under a lot of pressure on t...</td>\n",
       "      <td>None</td>\n",
       "    </tr>\n",
       "    <tr>\n",
       "      <th>4</th>\n",
       "      <td>Fix for those who already updated:  http:&amp;#x2F...</td>\n",
       "      <td>None</td>\n",
       "    </tr>\n",
       "  </tbody>\n",
       "</table>\n",
       "</div>"
      ],
      "text/plain": [
       "                                                text score\n",
       "0  I&#x27;m still waiting for them to stabilize w...  None\n",
       "1  For those who upgraded, no need to do a restor...  None\n",
       "2  Upgraded shortly after it was released and suf...  None\n",
       "3  I think they were under a lot of pressure on t...  None\n",
       "4  Fix for those who already updated:  http:&#x2F...  None"
      ]
     },
     "execution_count": 6,
     "metadata": {},
     "output_type": "execute_result"
    }
   ],
   "source": [
    "pd.DataFrame(test['comments'][0])"
   ]
  },
  {
   "cell_type": "markdown",
   "id": "e5a6e9a7-6817-40db-96de-d7ae81c7596f",
   "metadata": {},
   "source": [
    "**В одном объекте имеем список дата-фреймов.**"
   ]
  },
  {
   "cell_type": "markdown",
   "id": "46f31206-b3f7-4ec2-9884-1d97e7edb9e6",
   "metadata": {},
   "source": [
    "Пойдем самым простым путем: из тренировочных данных получим дата-сет вида **комментарий - скор**, перемешаем его и обучим на нем модель. Такой же дата-сет получим из тестовой выборки без переменшивания и предскажем на нем. Это будет baseline решение.  "
   ]
  },
  {
   "cell_type": "markdown",
   "id": "766fb67e-aff2-459c-8395-eb6d47ffef2e",
   "metadata": {},
   "source": [
    "# Преобразование данных"
   ]
  },
  {
   "cell_type": "code",
   "execution_count": 16,
   "id": "60882862-028f-4d61-a61b-befb5e706216",
   "metadata": {},
   "outputs": [],
   "source": [
    "def Frame(data):\n",
    "    print('Идет преобразование дата-сета. Подождите....')\n",
    "    frames = []\n",
    "    for index in tqdm(data):\n",
    "        frames.append(pd.DataFrame(index))\n",
    "    total_frame = pd.concat(frames).reset_index(drop=True)\n",
    "    total_frame.to_csv('df_train', index_label=False)\n",
    "    print(f'В директорию загружен файл')\n",
    "    return total_frame       "
   ]
  },
  {
   "cell_type": "code",
   "execution_count": 17,
   "id": "68b3ffbe-abd1-4e47-b62e-569f15b62dd4",
   "metadata": {
    "tags": []
   },
   "outputs": [
    {
     "name": "stdout",
     "output_type": "stream",
     "text": [
      "Идет преобразование дата-сета. Подождите....\n"
     ]
    },
    {
     "name": "stderr",
     "output_type": "stream",
     "text": [
      "100%|██████████████████████████████████████████████████████████████████████████| 88107/88107 [00:43<00:00, 2041.50it/s]\n"
     ]
    },
    {
     "name": "stdout",
     "output_type": "stream",
     "text": [
      "В директорию загружен файл\n"
     ]
    },
    {
     "data": {
      "text/html": [
       "<div>\n",
       "<style scoped>\n",
       "    .dataframe tbody tr th:only-of-type {\n",
       "        vertical-align: middle;\n",
       "    }\n",
       "\n",
       "    .dataframe tbody tr th {\n",
       "        vertical-align: top;\n",
       "    }\n",
       "\n",
       "    .dataframe thead th {\n",
       "        text-align: right;\n",
       "    }\n",
       "</style>\n",
       "<table border=\"1\" class=\"dataframe\">\n",
       "  <thead>\n",
       "    <tr style=\"text-align: right;\">\n",
       "      <th></th>\n",
       "      <th>text</th>\n",
       "      <th>score</th>\n",
       "    </tr>\n",
       "  </thead>\n",
       "  <tbody>\n",
       "    <tr>\n",
       "      <th>0</th>\n",
       "      <td>Going back to school is not identical with giv...</td>\n",
       "      <td>0</td>\n",
       "    </tr>\n",
       "    <tr>\n",
       "      <th>1</th>\n",
       "      <td>There will invariably be those who don't see t...</td>\n",
       "      <td>1</td>\n",
       "    </tr>\n",
       "    <tr>\n",
       "      <th>2</th>\n",
       "      <td>For me school is a way to be connected to what...</td>\n",
       "      <td>2</td>\n",
       "    </tr>\n",
       "    <tr>\n",
       "      <th>3</th>\n",
       "      <td>I guess it really depends on how hungry you ar...</td>\n",
       "      <td>3</td>\n",
       "    </tr>\n",
       "    <tr>\n",
       "      <th>4</th>\n",
       "      <td>I know pollground decided to go back to school...</td>\n",
       "      <td>4</td>\n",
       "    </tr>\n",
       "    <tr>\n",
       "      <th>...</th>\n",
       "      <td>...</td>\n",
       "      <td>...</td>\n",
       "    </tr>\n",
       "    <tr>\n",
       "      <th>440530</th>\n",
       "      <td>Most major banks offer a service called &amp;#x27;...</td>\n",
       "      <td>0</td>\n",
       "    </tr>\n",
       "    <tr>\n",
       "      <th>440531</th>\n",
       "      <td>It costs 3.25%, or $74.25 for the example of $...</td>\n",
       "      <td>1</td>\n",
       "    </tr>\n",
       "    <tr>\n",
       "      <th>440532</th>\n",
       "      <td>As many other comments have pointed out almost...</td>\n",
       "      <td>2</td>\n",
       "    </tr>\n",
       "    <tr>\n",
       "      <th>440533</th>\n",
       "      <td>My apartment building uses Yapstone&amp;#x27;s Ren...</td>\n",
       "      <td>3</td>\n",
       "    </tr>\n",
       "    <tr>\n",
       "      <th>440534</th>\n",
       "      <td>Video seems in poor taste.</td>\n",
       "      <td>4</td>\n",
       "    </tr>\n",
       "  </tbody>\n",
       "</table>\n",
       "<p>440535 rows × 2 columns</p>\n",
       "</div>"
      ],
      "text/plain": [
       "                                                     text  score\n",
       "0       Going back to school is not identical with giv...      0\n",
       "1       There will invariably be those who don't see t...      1\n",
       "2       For me school is a way to be connected to what...      2\n",
       "3       I guess it really depends on how hungry you ar...      3\n",
       "4       I know pollground decided to go back to school...      4\n",
       "...                                                   ...    ...\n",
       "440530  Most major banks offer a service called &#x27;...      0\n",
       "440531  It costs 3.25%, or $74.25 for the example of $...      1\n",
       "440532  As many other comments have pointed out almost...      2\n",
       "440533  My apartment building uses Yapstone&#x27;s Ren...      3\n",
       "440534                         Video seems in poor taste.      4\n",
       "\n",
       "[440535 rows x 2 columns]"
      ]
     },
     "execution_count": 17,
     "metadata": {},
     "output_type": "execute_result"
    }
   ],
   "source": [
    "Frame(train['comments'])"
   ]
  },
  {
   "cell_type": "markdown",
   "id": "c0e39307-2399-4cf9-8ed2-7a36e9578f3e",
   "metadata": {
    "tags": []
   },
   "source": [
    "# Нормализация текста"
   ]
  },
  {
   "cell_type": "markdown",
   "id": "eae8836c-2bba-4b12-9371-f52f11d77a04",
   "metadata": {},
   "source": [
    "## Тренировочный дата-сет"
   ]
  },
  {
   "cell_type": "markdown",
   "id": "673c2ee4-da24-405f-881c-a6695da8f936",
   "metadata": {},
   "source": [
    "Для начала нужно перемешать весь получившийся дата-сет:"
   ]
  },
  {
   "cell_type": "code",
   "execution_count": 43,
   "id": "da3230f4-3f49-43fb-adb6-55c8761c6474",
   "metadata": {},
   "outputs": [],
   "source": [
    "df_train = pd.read_csv('df_train')"
   ]
  },
  {
   "cell_type": "code",
   "execution_count": 44,
   "id": "88026e32-7489-4172-b8a7-7c5534b72fe0",
   "metadata": {
    "tags": []
   },
   "outputs": [
    {
     "data": {
      "text/html": [
       "<div>\n",
       "<style scoped>\n",
       "    .dataframe tbody tr th:only-of-type {\n",
       "        vertical-align: middle;\n",
       "    }\n",
       "\n",
       "    .dataframe tbody tr th {\n",
       "        vertical-align: top;\n",
       "    }\n",
       "\n",
       "    .dataframe thead th {\n",
       "        text-align: right;\n",
       "    }\n",
       "</style>\n",
       "<table border=\"1\" class=\"dataframe\">\n",
       "  <thead>\n",
       "    <tr style=\"text-align: right;\">\n",
       "      <th></th>\n",
       "      <th>text</th>\n",
       "      <th>score</th>\n",
       "    </tr>\n",
       "  </thead>\n",
       "  <tbody>\n",
       "    <tr>\n",
       "      <th>0</th>\n",
       "      <td>Going back to school is not identical with giv...</td>\n",
       "      <td>0</td>\n",
       "    </tr>\n",
       "    <tr>\n",
       "      <th>1</th>\n",
       "      <td>There will invariably be those who don't see t...</td>\n",
       "      <td>1</td>\n",
       "    </tr>\n",
       "    <tr>\n",
       "      <th>2</th>\n",
       "      <td>For me school is a way to be connected to what...</td>\n",
       "      <td>2</td>\n",
       "    </tr>\n",
       "  </tbody>\n",
       "</table>\n",
       "</div>"
      ],
      "text/plain": [
       "                                                text  score\n",
       "0  Going back to school is not identical with giv...      0\n",
       "1  There will invariably be those who don't see t...      1\n",
       "2  For me school is a way to be connected to what...      2"
      ]
     },
     "execution_count": 44,
     "metadata": {},
     "output_type": "execute_result"
    }
   ],
   "source": [
    "df_train.head(3)"
   ]
  },
  {
   "cell_type": "code",
   "execution_count": 45,
   "id": "1d8c0d4a-3478-4120-9b3e-927247154e88",
   "metadata": {
    "tags": []
   },
   "outputs": [],
   "source": [
    "df_train = shuffle(df_train)"
   ]
  },
  {
   "cell_type": "code",
   "execution_count": 46,
   "id": "a16f40c3-0da9-4740-9643-bfc0f3b41b17",
   "metadata": {
    "tags": []
   },
   "outputs": [
    {
     "data": {
      "text/html": [
       "<div>\n",
       "<style scoped>\n",
       "    .dataframe tbody tr th:only-of-type {\n",
       "        vertical-align: middle;\n",
       "    }\n",
       "\n",
       "    .dataframe tbody tr th {\n",
       "        vertical-align: top;\n",
       "    }\n",
       "\n",
       "    .dataframe thead th {\n",
       "        text-align: right;\n",
       "    }\n",
       "</style>\n",
       "<table border=\"1\" class=\"dataframe\">\n",
       "  <thead>\n",
       "    <tr style=\"text-align: right;\">\n",
       "      <th></th>\n",
       "      <th>text</th>\n",
       "      <th>score</th>\n",
       "    </tr>\n",
       "  </thead>\n",
       "  <tbody>\n",
       "    <tr>\n",
       "      <th>12815</th>\n",
       "      <td>Once you learn the basics, try just reading th...</td>\n",
       "      <td>0</td>\n",
       "    </tr>\n",
       "    <tr>\n",
       "      <th>355622</th>\n",
       "      <td>I know that HN mods replace the title of posts...</td>\n",
       "      <td>2</td>\n",
       "    </tr>\n",
       "    <tr>\n",
       "      <th>18743</th>\n",
       "      <td>I don't need it, but I think you should send i...</td>\n",
       "      <td>3</td>\n",
       "    </tr>\n",
       "    <tr>\n",
       "      <th>70166</th>\n",
       "      <td>I can't tell if this is a joke or not.</td>\n",
       "      <td>1</td>\n",
       "    </tr>\n",
       "    <tr>\n",
       "      <th>288961</th>\n",
       "      <td>* Windows desktop will still thrive on Enterpr...</td>\n",
       "      <td>1</td>\n",
       "    </tr>\n",
       "  </tbody>\n",
       "</table>\n",
       "</div>"
      ],
      "text/plain": [
       "                                                     text  score\n",
       "12815   Once you learn the basics, try just reading th...      0\n",
       "355622  I know that HN mods replace the title of posts...      2\n",
       "18743   I don't need it, but I think you should send i...      3\n",
       "70166              I can't tell if this is a joke or not.      1\n",
       "288961  * Windows desktop will still thrive on Enterpr...      1"
      ]
     },
     "execution_count": 46,
     "metadata": {},
     "output_type": "execute_result"
    }
   ],
   "source": [
    "df_train.head(5)"
   ]
  },
  {
   "cell_type": "markdown",
   "id": "7f1014c8-a027-4e33-af89-ba48fcd4c8d4",
   "metadata": {},
   "source": [
    "### Нормализация текста"
   ]
  },
  {
   "cell_type": "markdown",
   "id": "0125e858-bf3b-4b63-870b-2432aea757d6",
   "metadata": {},
   "source": [
    "Приведем весь  текст в один регистр, удалим лишние пробелы и знаки препинания, а также стоп-слова."
   ]
  },
  {
   "cell_type": "code",
   "execution_count": 47,
   "id": "7690da0c-a513-42ad-ae6f-29206a1028e2",
   "metadata": {
    "tags": []
   },
   "outputs": [],
   "source": [
    "stopwords = stop_words.get_stop_words('en')"
   ]
  },
  {
   "cell_type": "code",
   "execution_count": 48,
   "id": "dbccf7a7-92d9-46c2-bce0-e04a6e775292",
   "metadata": {
    "tags": []
   },
   "outputs": [],
   "source": [
    "stopwords.extend(['...', '«', '»', 'an','the','i', 'me', 'my', 'myself', 'we', 'our', 'ours', 'ourselves', 'you', \"you're\", \"you've\", \"you'll\", \"you'd\", 'your', 'yours', 'yourself', 'yourselves', 'he', 'him', 'his', 'himself', 'she', \"she's\", 'her', 'hers', 'herself', 'it', \"it's\", 'its', 'itself', 'they', 'them', 'their', 'theirs', 'themselves', 'what', 'which', 'who', 'whom', 'this', 'that', \"that'll\", 'these', 'those', 'am', 'is', 'are', 'was', 'were', 'be', 'been', 'being', 'have', 'has', 'had', 'having', 'do', 'does', 'did', 'doing', 'a', 'an', 'the', 'and', 'but', 'if', 'or', 'because', 'as', 'until', 'while', 'of', 'at', 'by', 'for', 'with', 'about', 'against', 'between', 'into', 'through', 'during', 'before', 'after', 'above', 'below', 'to', 'from', 'up', 'down', 'in', 'out', 'on', 'off', 'over', 'under', 'again', 'further', 'then', 'once', 'here', 'there', 'when', 'where', 'why', 'how', 'all', 'any', 'both', 'each', 'few', 'more', 'most', 'other', 'some', 'such', 'no', 'nor', 'not', 'only', 'own', 'same', 'so', 'than', 'too', 'very', 's', 't', 'can', 'will', 'just', 'don', \"don't\", 'should', \"should've\", 'now', 'd', 'll', 'm', 'o', 're', 've', 'y', 'ain', 'aren', \"aren't\", 'couldn', \"couldn't\", 'didn', \"didn't\", 'doesn', \"doesn't\", 'hadn', \"hadn't\", 'hasn', \"hasn't\", 'haven', \"haven't\", 'isn', \"isn't\", 'ma', 'mightn', \"mightn't\", 'mustn', \"mustn't\", 'needn', \"needn't\", 'shan', \"shan't\", 'shouldn', \"shouldn't\", 'wasn', \"wasn't\", 'weren', \"weren't\", 'won', \"won't\", 'wouldn', \"wouldn't\"])"
   ]
  },
  {
   "cell_type": "code",
   "execution_count": 49,
   "id": "02faee2f-a217-41c5-8ad7-9b2b411691e0",
   "metadata": {
    "tags": []
   },
   "outputs": [],
   "source": [
    "def remove_punctuation(text):\n",
    "    return ''.join([ch if ch not in string.punctuation else ' ' for ch in text])"
   ]
  },
  {
   "cell_type": "code",
   "execution_count": 50,
   "id": "5836c294-bbad-4804-a436-29894e2a8e00",
   "metadata": {
    "tags": []
   },
   "outputs": [],
   "source": [
    "def remove_numbers(text):\n",
    "    return ''.join([i if not i.isdigit() else ' ' for i in text])"
   ]
  },
  {
   "cell_type": "code",
   "execution_count": 51,
   "id": "33b01899-21ea-47e0-b883-b38f262bd230",
   "metadata": {
    "tags": []
   },
   "outputs": [],
   "source": [
    "def remove_multiple_spaces(text):\n",
    "    return re.sub(r'\\s+', ' ', text, flags=re.I)"
   ]
  },
  {
   "cell_type": "code",
   "execution_count": 53,
   "id": "463e6820-29de-4ef8-862c-58ceb976bd49",
   "metadata": {
    "tags": []
   },
   "outputs": [],
   "source": [
    "prep_text = [remove_multiple_spaces(remove_numbers(remove_punctuation(text.lower()))) for text in df_train['text'].astype('str')]"
   ]
  },
  {
   "cell_type": "code",
   "execution_count": 54,
   "id": "7e42fff0-3553-4db9-a8fb-7213ee6adcc1",
   "metadata": {
    "tags": []
   },
   "outputs": [],
   "source": [
    "df_train['text_prep'] = prep_text"
   ]
  },
  {
   "cell_type": "code",
   "execution_count": 55,
   "id": "42b380bf-ff8a-4058-b7ec-87f405b1b2a9",
   "metadata": {
    "tags": []
   },
   "outputs": [
    {
     "data": {
      "text/html": [
       "<div>\n",
       "<style scoped>\n",
       "    .dataframe tbody tr th:only-of-type {\n",
       "        vertical-align: middle;\n",
       "    }\n",
       "\n",
       "    .dataframe tbody tr th {\n",
       "        vertical-align: top;\n",
       "    }\n",
       "\n",
       "    .dataframe thead th {\n",
       "        text-align: right;\n",
       "    }\n",
       "</style>\n",
       "<table border=\"1\" class=\"dataframe\">\n",
       "  <thead>\n",
       "    <tr style=\"text-align: right;\">\n",
       "      <th></th>\n",
       "      <th>text</th>\n",
       "      <th>score</th>\n",
       "      <th>text_prep</th>\n",
       "    </tr>\n",
       "  </thead>\n",
       "  <tbody>\n",
       "    <tr>\n",
       "      <th>12815</th>\n",
       "      <td>Once you learn the basics, try just reading th...</td>\n",
       "      <td>0</td>\n",
       "      <td>once you learn the basics try just reading thr...</td>\n",
       "    </tr>\n",
       "    <tr>\n",
       "      <th>355622</th>\n",
       "      <td>I know that HN mods replace the title of posts...</td>\n",
       "      <td>2</td>\n",
       "      <td>i know that hn mods replace the title of posts...</td>\n",
       "    </tr>\n",
       "    <tr>\n",
       "      <th>18743</th>\n",
       "      <td>I don't need it, but I think you should send i...</td>\n",
       "      <td>3</td>\n",
       "      <td>i don t need it but i think you should send it...</td>\n",
       "    </tr>\n",
       "    <tr>\n",
       "      <th>70166</th>\n",
       "      <td>I can't tell if this is a joke or not.</td>\n",
       "      <td>1</td>\n",
       "      <td>i can t tell if this is a joke or not</td>\n",
       "    </tr>\n",
       "    <tr>\n",
       "      <th>288961</th>\n",
       "      <td>* Windows desktop will still thrive on Enterpr...</td>\n",
       "      <td>1</td>\n",
       "      <td>windows desktop will still thrive on enterpri...</td>\n",
       "    </tr>\n",
       "  </tbody>\n",
       "</table>\n",
       "</div>"
      ],
      "text/plain": [
       "                                                     text  score  \\\n",
       "12815   Once you learn the basics, try just reading th...      0   \n",
       "355622  I know that HN mods replace the title of posts...      2   \n",
       "18743   I don't need it, but I think you should send i...      3   \n",
       "70166              I can't tell if this is a joke or not.      1   \n",
       "288961  * Windows desktop will still thrive on Enterpr...      1   \n",
       "\n",
       "                                                text_prep  \n",
       "12815   once you learn the basics try just reading thr...  \n",
       "355622  i know that hn mods replace the title of posts...  \n",
       "18743   i don t need it but i think you should send it...  \n",
       "70166              i can t tell if this is a joke or not   \n",
       "288961   windows desktop will still thrive on enterpri...  "
      ]
     },
     "execution_count": 55,
     "metadata": {},
     "output_type": "execute_result"
    }
   ],
   "source": [
    "df_train.head()"
   ]
  },
  {
   "cell_type": "markdown",
   "id": "e2f994ce-cfc1-4251-befc-ced8b28647d5",
   "metadata": {},
   "source": [
    "### Лемматизация "
   ]
  },
  {
   "cell_type": "code",
   "execution_count": 56,
   "id": "b85bf121-aef9-4b20-a6bd-8f7a8d3d5762",
   "metadata": {
    "tags": []
   },
   "outputs": [],
   "source": [
    "df_train = df_train.dropna(subset=['text_prep'])"
   ]
  },
  {
   "cell_type": "code",
   "execution_count": 57,
   "id": "4d32903b-3246-45fa-8fb0-ecfc6f5864b9",
   "metadata": {
    "tags": []
   },
   "outputs": [],
   "source": [
    "morph = pymorphy2.MorphAnalyzer()"
   ]
  },
  {
   "cell_type": "code",
   "execution_count": 67,
   "id": "bc81cc07-7c7b-40d6-b600-74352e6a232a",
   "metadata": {
    "tags": []
   },
   "outputs": [],
   "source": [
    "lemm_texts_list = []"
   ]
  },
  {
   "cell_type": "code",
   "execution_count": 68,
   "id": "adcfb17c-47c9-43e8-8155-4f50ee92add2",
   "metadata": {
    "tags": []
   },
   "outputs": [
    {
     "name": "stderr",
     "output_type": "stream",
     "text": [
      "100%|█████████████████████████████████████████████████████████████████████████| 440535/440535 [31:23<00:00, 233.93it/s]\n"
     ]
    }
   ],
   "source": [
    "'''for text in tqdm(df_train['text_prep']):\n",
    "    text_lem = [morph.parse(word)[0].normal_form for word in text.split(' ')]\n",
    "    if len(text_lem) <= 2:\n",
    "        lemm_texts_list.append('')\n",
    "        \n",
    "    else:\n",
    "        lemm_texts_list.append(' '.join(text_lem))'''"
   ]
  },
  {
   "cell_type": "code",
   "execution_count": 70,
   "id": "3c986d2b-5904-4e0a-b674-fbf602ae4763",
   "metadata": {
    "tags": []
   },
   "outputs": [],
   "source": [
    "df_train['text_lemm'] = lemm_texts_list"
   ]
  },
  {
   "cell_type": "code",
   "execution_count": 71,
   "id": "d2d10ede-6837-439d-a015-2a0450189794",
   "metadata": {
    "tags": []
   },
   "outputs": [],
   "source": [
    "df_train = df_train[df_train['text_lemm'] != '']"
   ]
  },
  {
   "cell_type": "code",
   "execution_count": 72,
   "id": "67e7bece-cfa1-48f2-8c53-c412e519d8ac",
   "metadata": {
    "tags": []
   },
   "outputs": [
    {
     "data": {
      "text/html": [
       "<div>\n",
       "<style scoped>\n",
       "    .dataframe tbody tr th:only-of-type {\n",
       "        vertical-align: middle;\n",
       "    }\n",
       "\n",
       "    .dataframe tbody tr th {\n",
       "        vertical-align: top;\n",
       "    }\n",
       "\n",
       "    .dataframe thead th {\n",
       "        text-align: right;\n",
       "    }\n",
       "</style>\n",
       "<table border=\"1\" class=\"dataframe\">\n",
       "  <thead>\n",
       "    <tr style=\"text-align: right;\">\n",
       "      <th></th>\n",
       "      <th>text</th>\n",
       "      <th>score</th>\n",
       "      <th>text_prep</th>\n",
       "      <th>text_lemm</th>\n",
       "    </tr>\n",
       "  </thead>\n",
       "  <tbody>\n",
       "    <tr>\n",
       "      <th>12815</th>\n",
       "      <td>Once you learn the basics, try just reading th...</td>\n",
       "      <td>0</td>\n",
       "      <td>once you learn the basics try just reading thr...</td>\n",
       "      <td>once you learn the basics try just reading thr...</td>\n",
       "    </tr>\n",
       "    <tr>\n",
       "      <th>355622</th>\n",
       "      <td>I know that HN mods replace the title of posts...</td>\n",
       "      <td>2</td>\n",
       "      <td>i know that hn mods replace the title of posts...</td>\n",
       "      <td>i know that hn mods replace the title of posts...</td>\n",
       "    </tr>\n",
       "    <tr>\n",
       "      <th>18743</th>\n",
       "      <td>I don't need it, but I think you should send i...</td>\n",
       "      <td>3</td>\n",
       "      <td>i don t need it but i think you should send it...</td>\n",
       "      <td>i don t need it but i think you should send it...</td>\n",
       "    </tr>\n",
       "    <tr>\n",
       "      <th>70166</th>\n",
       "      <td>I can't tell if this is a joke or not.</td>\n",
       "      <td>1</td>\n",
       "      <td>i can t tell if this is a joke or not</td>\n",
       "      <td>i can t tell if this is a joke or not</td>\n",
       "    </tr>\n",
       "    <tr>\n",
       "      <th>288961</th>\n",
       "      <td>* Windows desktop will still thrive on Enterpr...</td>\n",
       "      <td>1</td>\n",
       "      <td>windows desktop will still thrive on enterpri...</td>\n",
       "      <td>windows desktop will still thrive on enterpri...</td>\n",
       "    </tr>\n",
       "  </tbody>\n",
       "</table>\n",
       "</div>"
      ],
      "text/plain": [
       "                                                     text  score  \\\n",
       "12815   Once you learn the basics, try just reading th...      0   \n",
       "355622  I know that HN mods replace the title of posts...      2   \n",
       "18743   I don't need it, but I think you should send i...      3   \n",
       "70166              I can't tell if this is a joke or not.      1   \n",
       "288961  * Windows desktop will still thrive on Enterpr...      1   \n",
       "\n",
       "                                                text_prep  \\\n",
       "12815   once you learn the basics try just reading thr...   \n",
       "355622  i know that hn mods replace the title of posts...   \n",
       "18743   i don t need it but i think you should send it...   \n",
       "70166              i can t tell if this is a joke or not    \n",
       "288961   windows desktop will still thrive on enterpri...   \n",
       "\n",
       "                                                text_lemm  \n",
       "12815   once you learn the basics try just reading thr...  \n",
       "355622  i know that hn mods replace the title of posts...  \n",
       "18743   i don t need it but i think you should send it...  \n",
       "70166              i can t tell if this is a joke or not   \n",
       "288961   windows desktop will still thrive on enterpri...  "
      ]
     },
     "execution_count": 72,
     "metadata": {},
     "output_type": "execute_result"
    }
   ],
   "source": [
    "df_train.head()"
   ]
  },
  {
   "cell_type": "markdown",
   "id": "bd60fbd9-90cf-4d35-a8e0-70de6d61e434",
   "metadata": {},
   "source": [
    "Так как лемматизация занимает длительное время - выгрузим файл с лемматизированным текстом."
   ]
  },
  {
   "cell_type": "code",
   "execution_count": 73,
   "id": "25eb753c-39d8-4798-964b-5871c15aa4d0",
   "metadata": {
    "tags": []
   },
   "outputs": [],
   "source": [
    "#df_train.to_csv('df_train_lemm', index_label=False)"
   ]
  },
  {
   "cell_type": "markdown",
   "id": "fac36e70-1193-4ef1-ac60-4e51ff8c7fc1",
   "metadata": {},
   "source": [
    "# ML"
   ]
  },
  {
   "cell_type": "markdown",
   "id": "defc373e-336c-46a6-834b-40831d5cf343",
   "metadata": {},
   "source": [
    "## Разбиение данных"
   ]
  },
  {
   "cell_type": "code",
   "execution_count": 2,
   "id": "e5b4ab89-7cbe-40e8-aa50-2ab191365cdc",
   "metadata": {
    "tags": []
   },
   "outputs": [],
   "source": [
    "df_train_lemm = pd.read_csv('df_train_lemm')"
   ]
  },
  {
   "cell_type": "code",
   "execution_count": 3,
   "id": "66c090ca-0c90-4fc4-a3ad-d7ab82c63f9d",
   "metadata": {
    "tags": []
   },
   "outputs": [],
   "source": [
    "df_train_lemm_samp = df_train_lemm.sample(frac=0.1, random_state=12)\n",
    "# df.sample(frac=0.5, replace=True, random_state=1)"
   ]
  },
  {
   "cell_type": "code",
   "execution_count": 4,
   "id": "e609e0ac-a083-4e4c-b652-e92f410aab8c",
   "metadata": {
    "tags": []
   },
   "outputs": [],
   "source": [
    "train = df_train_lemm_samp['text_lemm']"
   ]
  },
  {
   "cell_type": "code",
   "execution_count": 5,
   "id": "2f6747a5-ccca-4296-ac05-75ae93d60727",
   "metadata": {
    "tags": []
   },
   "outputs": [],
   "source": [
    "target = df_train_lemm_samp['score']"
   ]
  },
  {
   "cell_type": "code",
   "execution_count": 6,
   "id": "52f6efe5-decd-4982-b655-881cbf6a9600",
   "metadata": {
    "tags": []
   },
   "outputs": [],
   "source": [
    "features_train, features_valid, target_train, target_valid = train_test_split(train, target, random_state= 12, test_size=0.3)"
   ]
  },
  {
   "cell_type": "markdown",
   "id": "72ffbdff-08c2-43f3-aba2-33b277ad2342",
   "metadata": {},
   "source": [
    "## Обучение модели"
   ]
  },
  {
   "cell_type": "code",
   "execution_count": 19,
   "id": "1e35686a-220f-4dab-b501-4a03d1fb92ab",
   "metadata": {
    "tags": []
   },
   "outputs": [],
   "source": [
    "LogisticRegression = Pipeline([\n",
    "                ('vect', CountVectorizer(analyzer='char', ngram_range =(2,10))),\n",
    "                ('tfidf', TfidfTransformer()),\n",
    "                ('clf', LogisticRegression(n_jobs=3,C=1e5, solver='saga', \n",
    "                                           multi_class='multinomial',\n",
    "                                           max_iter=1000,\n",
    "                                           random_state=12)),\n",
    "])"
   ]
  },
  {
   "cell_type": "code",
   "execution_count": null,
   "id": "b72dee1a-2401-4c0e-b923-5124ba4bb3c1",
   "metadata": {
    "tags": []
   },
   "outputs": [],
   "source": [
    "%%time\n",
    "LogisticRegression.fit(features_train, target_train)"
   ]
  },
  {
   "cell_type": "code",
   "execution_count": 19,
   "id": "7fa669da-7401-41fb-8a23-1464099a23db",
   "metadata": {
    "tags": []
   },
   "outputs": [],
   "source": [
    "CountVectorizer = CountVectorizer(analyzer='char',\n",
    "                        ngram_range =(2,10))"
   ]
  },
  {
   "cell_type": "code",
   "execution_count": null,
   "id": "26e50185-4cbe-44ac-8a1f-fd48d4385303",
   "metadata": {
    "tags": []
   },
   "outputs": [],
   "source": [
    "train_vect = CountVectorizer.fit_transform(features_train)"
   ]
  },
  {
   "cell_type": "code",
   "execution_count": null,
   "id": "94073eb0-1257-4984-812d-90153e9bf010",
   "metadata": {},
   "outputs": [],
   "source": [
    "'''model = LogisticRegression()\n",
    "model.fit(X_train, Y_train)\n",
    "# save the model to disk\n",
    "filename = 'finalized_model.sav'\n",
    "pickle.dump(model, open(filename, 'wb'))\n",
    "\n",
    "# some time later...\n",
    "\n",
    "# load the model from disk\n",
    "loaded_model = pickle.load(open(filename, 'rb'))\n",
    "result = loaded_model.score(X_test, Y_test)\n",
    "print(result)'''"
   ]
  },
  {
   "cell_type": "code",
   "execution_count": null,
   "id": "f930965c-2610-4b71-a5c5-0faa792c32f9",
   "metadata": {},
   "outputs": [],
   "source": []
  }
 ],
 "metadata": {
  "kernelspec": {
   "display_name": "Python 3 (ipykernel)",
   "language": "python",
   "name": "python3"
  },
  "language_info": {
   "codemirror_mode": {
    "name": "ipython",
    "version": 3
   },
   "file_extension": ".py",
   "mimetype": "text/x-python",
   "name": "python",
   "nbconvert_exporter": "python",
   "pygments_lexer": "ipython3",
   "version": "3.9.10"
  }
 },
 "nbformat": 4,
 "nbformat_minor": 5
}
